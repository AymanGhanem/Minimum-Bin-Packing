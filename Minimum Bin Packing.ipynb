{
 "cells": [
  {
   "cell_type": "code",
   "execution_count": 1,
   "metadata": {},
   "outputs": [],
   "source": [
    "import numpy as np\n",
    "from random import randint\n",
    "def first_fit(weights, capacity):\n",
    "    for weight in weights:\n",
    "        if(weight > capacity):\n",
    "            print(\"There is a weight greater than the capacity\")\n",
    "            return None\n",
    "    remaining_capacity = [capacity for _ in range(len(weights))]\n",
    "    weights_distribution = [[] for _ in range(len(weights))]\n",
    "    for weight in weights:\n",
    "        for index, bin_capacity in enumerate(remaining_capacity):\n",
    "            if(bin_capacity >= weight):\n",
    "                weights_distribution[index].append(weight)\n",
    "                remaining_capacity[index] -= weight\n",
    "                break\n",
    "    bins = np.array(remaining_capacity) != capacity\n",
    "    return sum(bins), remaining_capacity, weights_distribution"
   ]
  },
  {
   "cell_type": "code",
   "execution_count": 2,
   "metadata": {},
   "outputs": [
    {
     "name": "stdout",
     "output_type": "stream",
     "text": [
      "Weights are                                :  [8, 8, 1, 5, 4, 9, 7, 1, 8, 7]\n",
      "Maximum capacity of each bin is            :  15\n",
      "The number of bins is                      :  5\n",
      "The remaining capacity of each bin is      :  [0, 3, 6, 0, 8, 15, 15, 15, 15, 15]\n",
      "The distribution of weights across bins is :  [[8, 1, 5, 1], [8, 4], [9], [7, 8], [7], [], [], [], [], []]\n"
     ]
    }
   ],
   "source": [
    "weights = [8,8,1,5,4,9,7,1,8,7]\n",
    "max_capacity = 15\n",
    "number_bins, remaining_capacity, weights_distribution = first_fit(weights, max_capacity)\n",
    "print(\"Weights are                                : \", weights)\n",
    "print(\"Maximum capacity of each bin is            : \", max_capacity)\n",
    "print(\"The number of bins is                      : \", number_bins)\n",
    "print(\"The remaining capacity of each bin is      : \", remaining_capacity)\n",
    "print(\"The distribution of weights across bins is : \", weights_distribution)"
   ]
  },
  {
   "cell_type": "code",
   "execution_count": 3,
   "metadata": {},
   "outputs": [
    {
     "name": "stdout",
     "output_type": "stream",
     "text": [
      "Weights are                                :  [20, 17, 1, 17, 15, 12, 1, 9, 1, 9]\n",
      "Maximum capacity of each bin is            :  30\n",
      "The number of bins is                      :  4\n",
      "The remaining capacity of each bin is      :  [7, 1, 4, 6, 30, 30, 30, 30, 30, 30]\n",
      "The distribution of weights across bins is :  [[20, 1, 1, 1], [17, 12], [17, 9], [15, 9], [], [], [], [], [], []]\n"
     ]
    }
   ],
   "source": [
    "weights = [randint(1,20) for _ in range(10)]\n",
    "max_capacity = 30\n",
    "number_bins, remaining_capacity, weights_distribution = first_fit(weights, max_capacity)\n",
    "print(\"Weights are                                : \", weights)\n",
    "print(\"Maximum capacity of each bin is            : \", max_capacity)\n",
    "print(\"The number of bins is                      : \", number_bins)\n",
    "print(\"The remaining capacity of each bin is      : \", remaining_capacity)\n",
    "print(\"The distribution of weights across bins is : \", weights_distribution)"
   ]
  }
 ],
 "metadata": {
  "kernelspec": {
   "display_name": "Python 3",
   "language": "python",
   "name": "python3"
  },
  "language_info": {
   "codemirror_mode": {
    "name": "ipython",
    "version": 3
   },
   "file_extension": ".py",
   "mimetype": "text/x-python",
   "name": "python",
   "nbconvert_exporter": "python",
   "pygments_lexer": "ipython3",
   "version": "3.7.3"
  }
 },
 "nbformat": 4,
 "nbformat_minor": 2
}
